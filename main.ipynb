{
 "cells": [
  {
   "cell_type": "markdown",
   "metadata": {},
   "source": [
    "Define variables and import required function."
   ]
  },
  {
   "cell_type": "code",
   "execution_count": 25,
   "metadata": {},
   "outputs": [],
   "source": [
    "from math import log\n",
    "from tqdm import tqdm\n",
    "\n",
    "#Define the call outcomes for t<25 and t>25\n",
    "CALL_OUTCOMES = {(\"LINE BUSY\", 0.2, 0.2, 6+3+1), (\"UNAVAILABLE\", 0.3, 0.5, 6+25+1), (\"AVAILABLE\", 0.5, 1.0, 6+1)}\n",
    "PRECISION = 5"
   ]
  },
  {
   "cell_type": "markdown",
   "metadata": {},
   "source": [
    "Create a random number generator using linear congruential random number algorithm."
   ]
  },
  {
   "cell_type": "code",
   "execution_count": 3,
   "metadata": {},
   "outputs": [],
   "source": [
    "def random_number_gen(x0=1000, a=24693, c=3517, k=(2**17)):\n",
    "    while True:\n",
    "        x_i = (a * x0 + c) % k\n",
    "        yield (x_i/k)\n",
    "        x0 = x_i"
   ]
  },
  {
   "cell_type": "markdown",
   "metadata": {},
   "source": [
    "Create random variable generators for both the call outcome $C$ and total call time $X$ to simulate call."
   ]
  },
  {
   "cell_type": "code",
   "execution_count": 6,
   "metadata": {},
   "outputs": [],
   "source": [
    "def determine_call_time(random_num): #previous cont_rand_var_gen\n",
    "    return -12*log(1-random_num)\n",
    "\n",
    "def simulate_call(random_num):\n",
    "    # determine call outcome by iterating through all outcomes and finding the first match to CDF\n",
    "    for outcome in CALL_OUTCOMES:\n",
    "        if outcome[2] >= random_num:\n",
    "            call_outcome = outcome\n",
    "            if call_outcome[0] == \"AVAILABLE\":\n",
    "                time_waited = determine_call_time((random_num - 0.5) / 0.5)\n",
    "                if time_waited <= 25:\n",
    "                    return (\"AVAILABLE\", 0.5, 1.0, round(6 + time_waited + 1, PRECISION))\n",
    "                else:\n",
    "                    return (\"UNAVAILABLE\", 0.5, 1.0, 32)\n",
    "            else:\n",
    "                return (\"UNAVAILABLE\", 0.5, 1.0, 32)"
   ]
  },
  {
   "cell_type": "markdown",
   "metadata": {},
   "source": [
    "Run the simulation."
   ]
  },
  {
   "cell_type": "code",
   "execution_count": 30,
   "metadata": {},
   "outputs": [
    {
     "name": "stderr",
     "output_type": "stream",
     "text": [
      "100%|██████████| 10000/10000 [00:00<00:00, 1050545.77it/s]\n"
     ]
    }
   ],
   "source": [
    "total_customers_called = 0\n",
    "total_time_spent = 0\n",
    "call_time_t = []\n",
    "total_time_w = []\n",
    "generator = random_number_gen()\n",
    "\n",
    "number_of_calls_on_customer = 0\n",
    "current_time = 0\n",
    "\n",
    "for call_index in tqdm(range(10000)):\n",
    "    rand_num = next(generator)\n",
    "    call_outcome, _, _, time_spent_t = simulate_call(rand_num)\n",
    "    number_of_calls_on_customer += 1 \n",
    "    call_time_t.append(time_spent_t)\n",
    "    current_time += time_spent_t\n",
    "\n",
    "    if call_outcome == \"AVAILABLE\":\n",
    "        total_time_w.append(current_time)\n",
    "        current_time = 0\n",
    "        number_of_calls_on_customer = 0\n",
    "\n",
    "    elif number_of_calls_on_customer == 4:\n",
    "            total_time_w.append(current_time)\n",
    "            current_time = 0\n",
    "            number_of_calls_on_customer = 0     "
   ]
  },
  {
   "cell_type": "markdown",
   "metadata": {},
   "source": [
    "Some statisics."
   ]
  },
  {
   "cell_type": "code",
   "execution_count": 31,
   "metadata": {},
   "outputs": [
    {
     "name": "stdout",
     "output_type": "stream",
     "text": [
      "Average time per customer : 51.33777 seconds\n",
      "Number of customers : 4840\n",
      "Average call time : 24.84748 seconds\n",
      "Average number of calls per customer : 2.06612\n"
     ]
    }
   ],
   "source": [
    "total_time_w\n",
    "print (f\"Average time per customer : {round(sum(total_time_w)/len(total_time_w), PRECISION)} seconds\")\n",
    "print (f\"Number of customers : {len(total_time_w)}\")\n",
    "print (f\"Average call time : {round(sum(call_time_t)/len(call_time_t), PRECISION)} seconds\")\n",
    "print (f\"Average number of calls per customer : {round(len(call_time_t)/len(total_time_w), PRECISION)}\")"
   ]
  }
 ],
 "metadata": {
  "kernelspec": {
   "display_name": "Python 3",
   "language": "python",
   "name": "python3"
  },
  "language_info": {
   "codemirror_mode": {
    "name": "ipython",
    "version": 3
   },
   "file_extension": ".py",
   "mimetype": "text/x-python",
   "name": "python",
   "nbconvert_exporter": "python",
   "pygments_lexer": "ipython3",
   "version": "3.12.1"
  }
 },
 "nbformat": 4,
 "nbformat_minor": 2
}
