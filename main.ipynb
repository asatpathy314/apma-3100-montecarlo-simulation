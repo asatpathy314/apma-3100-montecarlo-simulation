{
 "cells": [
  {
   "cell_type": "markdown",
   "metadata": {},
   "source": [
    "Define variables and import required function."
   ]
  },
  {
   "cell_type": "code",
   "execution_count": null,
   "metadata": {},
   "outputs": [
    {
     "ename": "",
     "evalue": "",
     "output_type": "error",
     "traceback": [
      "\u001b[1;31mRunning cells with '/opt/homebrew/bin/python3' requires the ipykernel package.\n",
      "\u001b[1;31mRun the following command to install 'ipykernel' into the Python environment. \n",
      "\u001b[1;31mCommand: '/opt/homebrew/bin/python3 -m pip install ipykernel -U --user --force-reinstall'"
     ]
    }
   ],
   "source": [
    "from math import log\n",
    "#Define the call outcomes for t<25 and t>25\n",
    "CALL_OUTCOMES = {(\"LINE BUSY\", 0.2, 9), (\"UNAVAILABLE\", 0.3, 31), (\"AVAILABLE X<=25\", 0.437743, 7), (\"AVAILABLE X>25\", 0.062258, 31)}"
   ]
  },
  {
   "cell_type": "markdown",
   "metadata": {},
   "source": [
    "Create a random number generator using linear congruential random number algorithm."
   ]
  },
  {
   "cell_type": "code",
   "execution_count": null,
   "metadata": {},
   "outputs": [],
   "source": [
    "def random_number_gen(x0=1000, a=24693, c=3517, k=(2**17), precision=4):\n",
    "    while True:\n",
    "        x_i = (a * x0 + c) % k\n",
    "        yield round(x_i/k, precision)\n",
    "        x0 = x_i"
   ]
  },
  {
   "cell_type": "markdown",
   "metadata": {},
   "source": [
    "Create random variable gnerators for both the call outcome $C$ and total call time $X$."
   ]
  },
  {
   "cell_type": "code",
   "execution_count": null,
   "metadata": {},
   "outputs": [],
   "source": [
    "def cont_rand_var_gen(random_num): #Given a probability it generates total call time X.\n",
    "    return -12*log(1-random_num)\n",
    "\n",
    "def discrete_rand_var_gen(random_num):\n",
    "    final_outcome = (None, 1.0, None)\n",
    "    for outcome in CALL_OUTCOMES:\n",
    "        if outcome[1] >= random_num and outcome[1] <= final_outcome:\n",
    "            pass\n",
    "            #still cooking"
   ]
  },
  {
   "cell_type": "markdown",
   "metadata": {},
   "source": [
    "Run the simulation."
   ]
  },
  {
   "cell_type": "code",
   "execution_count": null,
   "metadata": {},
   "outputs": [],
   "source": [
    "#Testing random number gen\n",
    "gen = random_number_gen()\n",
    "for i in range(1, 54):\n",
    "    x = next(gen)\n",
    "    if i in {51, 52, 53}:\n",
    "        print(f\"U_{i}=\"+str(x))\n",
    "#Testing continuous rand var gen\n",
    "print(cont_rand_var_gen(0.8))"
   ]
  }
 ],
 "metadata": {
  "kernelspec": {
   "display_name": "Python 3",
   "language": "python",
   "name": "python3"
  },
  "language_info": {
   "name": "python",
   "version": "3.12.2"
  }
 },
 "nbformat": 4,
 "nbformat_minor": 2
}
