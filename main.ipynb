{
 "cells": [
  {
   "cell_type": "markdown",
   "metadata": {},
   "source": [
    "Define variables and import required function."
   ]
  },
  {
   "cell_type": "code",
   "execution_count": 28,
   "metadata": {},
   "outputs": [],
   "source": [
    "from math import log\n",
    "from tqdm import tqdm\n",
    "import statistics\n",
    "\n",
    "#Define the call outcomes for t<25 and t>25\n",
    "CALL_OUTCOMES = {(\"LINE BUSY\", 0.2, 0.2, 6+3+1), (\"UNAVAILABLE\", 0.3, 0.5, 6+25+1), (\"AVAILABLE\", 0.5, 1.0, 6+1)}\n",
    "PRECISION = 5"
   ]
  },
  {
   "cell_type": "markdown",
   "metadata": {},
   "source": [
    "Create a random number generator using linear congruential random number algorithm."
   ]
  },
  {
   "cell_type": "code",
   "execution_count": 45,
   "metadata": {},
   "outputs": [],
   "source": [
    "def random_number_gen(x0=1000, a=24693, c=3517, k=(2**17)):\n",
    "    while True:\n",
    "        x_i = (a * x0 + c) % k\n",
    "        yield (x_i/k)\n",
    "        x0 = x_i"
   ]
  },
  {
   "cell_type": "markdown",
   "metadata": {},
   "source": [
    "Generate the 51st, 52nd, and 53rd random numbers."
   ]
  },
  {
   "cell_type": "code",
   "execution_count": 46,
   "metadata": {},
   "outputs": [
    {
     "ename": "TypeError",
     "evalue": "'function' object is not an iterator",
     "output_type": "error",
     "traceback": [
      "\u001b[0;31m---------------------------------------------------------------------------\u001b[0m",
      "\u001b[0;31mTypeError\u001b[0m                                 Traceback (most recent call last)",
      "Cell \u001b[0;32mIn[46], line 4\u001b[0m\n\u001b[1;32m      1\u001b[0m random_num_gen \u001b[38;5;241m=\u001b[39m random_number_gen()\n\u001b[1;32m      3\u001b[0m \u001b[38;5;28;01mfor\u001b[39;00m i \u001b[38;5;129;01min\u001b[39;00m \u001b[38;5;28mrange\u001b[39m (\u001b[38;5;241m1\u001b[39m, \u001b[38;5;241m54\u001b[39m):\n\u001b[0;32m----> 4\u001b[0m     num \u001b[38;5;241m=\u001b[39m \u001b[38;5;28;43mnext\u001b[39;49m\u001b[43m(\u001b[49m\u001b[43mrandom_number_gen\u001b[49m\u001b[43m)\u001b[49m\n\u001b[1;32m      5\u001b[0m     \u001b[38;5;28;01mif\u001b[39;00m (i \u001b[38;5;129;01min\u001b[39;00m \u001b[38;5;28mrange\u001b[39m(\u001b[38;5;241m51\u001b[39m, \u001b[38;5;241m54\u001b[39m)):\n\u001b[1;32m      6\u001b[0m         \u001b[38;5;28mprint\u001b[39m(\u001b[38;5;124mf\u001b[39m\u001b[38;5;124m\"\u001b[39m\u001b[38;5;124mNum \u001b[39m\u001b[38;5;132;01m{\u001b[39;00mi\u001b[38;5;132;01m}\u001b[39;00m\u001b[38;5;124m : \u001b[39m\u001b[38;5;132;01m{\u001b[39;00mnum\u001b[38;5;132;01m}\u001b[39;00m\u001b[38;5;124m\"\u001b[39m)\n",
      "\u001b[0;31mTypeError\u001b[0m: 'function' object is not an iterator"
     ]
    }
   ],
   "source": [
    "random_num_gen = random_number_gen()\n",
    "\n",
    "for i in range (1, 54):\n",
    "    num = next(random_num_gen)\n",
    "    if (i in range(51, 54)):\n",
    "        print(f\"Num {i} : {num}\")\n"
   ]
  },
  {
   "cell_type": "markdown",
   "metadata": {},
   "source": [
    "Create random variable generators for both the call outcome $C$ and total call time $X$ to simulate call."
   ]
  },
  {
   "cell_type": "code",
   "execution_count": 26,
   "metadata": {},
   "outputs": [],
   "source": [
    "def determine_call_time(random_num): #previous cont_rand_var_gen\n",
    "    return -12*log(1-random_num)\n",
    "\n",
    "def simulate_call(random_num):\n",
    "    # determine call outcome by iterating through all outcomes and finding the first match to CDF\n",
    "    for outcome in CALL_OUTCOMES:\n",
    "        if outcome[2] >= random_num:\n",
    "            call_outcome = outcome\n",
    "            if call_outcome[0] == \"AVAILABLE\":\n",
    "                time_waited = determine_call_time((random_num - 0.5) / 0.5)\n",
    "                if time_waited <= 25:\n",
    "                    return (\"AVAILABLE\", 0.5, 1.0, round(6 + time_waited, PRECISION))\n",
    "                else:\n",
    "                    return (\"UNAVAILABLE\", 0.5, 1.0, 32)\n",
    "            else:\n",
    "                return (\"UNAVAILABLE\", 0.5, 1.0, 32)"
   ]
  },
  {
   "cell_type": "markdown",
   "metadata": {},
   "source": [
    "Run the simulation."
   ]
  },
  {
   "cell_type": "code",
   "execution_count": 39,
   "metadata": {},
   "outputs": [
    {
     "name": "stderr",
     "output_type": "stream",
     "text": [
      "100%|██████████| 1000/1000 [00:00<00:00, 856155.13it/s]\n"
     ]
    }
   ],
   "source": [
    "total_customers_called = 0\n",
    "total_time_spent = 0\n",
    "call_time_t = []\n",
    "total_time_w = []\n",
    "number_of_successful_customers = 0\n",
    "generator = random_number_gen()\n",
    "\n",
    "number_of_calls_on_customer = 0\n",
    "current_time = 0\n",
    "\n",
    "for call_index in tqdm(range(1000)):\n",
    "    rand_num = next(generator)\n",
    "    call_outcome, _, _, time_spent_t = simulate_call(rand_num)\n",
    "    number_of_calls_on_customer += 1 \n",
    "    call_time_t.append(time_spent_t)\n",
    "    current_time += time_spent_t\n",
    "\n",
    "    if call_outcome == \"AVAILABLE\":\n",
    "        total_time_w.append(current_time)\n",
    "        current_time = 0\n",
    "        number_of_calls_on_customer = 0\n",
    "        number_of_successful_customers += 1\n",
    "\n",
    "    elif number_of_calls_on_customer == 4:\n",
    "            total_time_w.append(current_time)\n",
    "            current_time = 0\n",
    "            number_of_calls_on_customer = 0     "
   ]
  },
  {
   "cell_type": "markdown",
   "metadata": {},
   "source": [
    "Some statisics."
   ]
  },
  {
   "cell_type": "code",
   "execution_count": 30,
   "metadata": {},
   "outputs": [
    {
     "name": "stdout",
     "output_type": "stream",
     "text": [
      "Number of successful customers : 429\n",
      "Average time per customer : 50.70721 seconds\n",
      "Number of customers : 480\n",
      "Average call time : 24.37146 seconds\n",
      "Average number of calls per customer : 2.08333\n"
     ]
    }
   ],
   "source": [
    "print (f\"Number of successful customers : {number_of_successful_customers}\")\n",
    "print (f\"Average time per customer : {round(sum(total_time_w)/len(total_time_w), PRECISION)} seconds\")\n",
    "print (f\"Number of customers : {len(total_time_w)}\")\n",
    "print (f\"Average call time : {round(sum(call_time_t)/len(call_time_t), PRECISION)} seconds\")\n",
    "print (f\"Average number of calls per customer : {round(len(call_time_t)/len(total_time_w), PRECISION)}\")"
   ]
  },
  {
   "cell_type": "code",
   "execution_count": 34,
   "metadata": {},
   "outputs": [
    {
     "name": "stdout",
     "output_type": "stream",
     "text": [
      "Average time per customer : 50.707211979166665\n",
      "Median : 43.198135\n",
      "First Quartile : 14.8374075\n",
      "Third Quartile : 76.38365999999999\n",
      "W <= 15 : 0.2520833333333333\n",
      "W <= 20 : 0.3458333333333333\n",
      "W <= 30 : 0.4\n",
      "W > 40 : 0.5541666666666667\n",
      "W > 60 : 0.3333333333333333\n",
      "W > 80 : 0.22708333333333333\n",
      "W > 100 : 0.1625\n",
      "Max time: 128\n",
      "Min time: 6.11758\n"
     ]
    }
   ],
   "source": [
    "import statistics\n",
    "\n",
    "mean = statistics.mean(total_time_w)\n",
    "median = statistics.median(total_time_w)\n",
    "\n",
    "# Calculate quartiles\n",
    "first_quartile = statistics.quantiles(total_time_w, n=4)[0]\n",
    "third_quartile = statistics.quantiles(total_time_w, n=4)[-1]\n",
    "\n",
    "prob_w_leq_15 = len([time for time in total_time_w if time <= 15])/len(total_time_w)\n",
    "\n",
    "prob_w_leq_20 = len([time for time in total_time_w if time <= 20])/len(total_time_w)\n",
    "\n",
    "prob_w_leq_30 = len([time for time in total_time_w if time <= 30])/len(total_time_w)\n",
    "\n",
    "prob_w_g_40 = len([time for time in total_time_w if time > 40])/len(total_time_w)\n",
    "\n",
    "prob_w_g_60 = len([time for time in total_time_w if time > 60])/len(total_time_w)\n",
    "\n",
    "prob_w_g_80 = len([time for time in total_time_w if time > 80])/len(total_time_w)\n",
    "\n",
    "prob_w_g_100 = len([time for time in total_time_w if time > 100])/len(total_time_w)\n",
    "\n",
    "print(f\"Average time per customer : {mean}\")\n",
    "print(f\"Median : {median}\")\n",
    "print(f\"First Quartile : {first_quartile}\")\n",
    "print(f\"Third Quartile : {third_quartile}\")\n",
    "print(f\"W <= 15 : {prob_w_leq_15}\")\n",
    "print(f\"W <= 20 : {prob_w_leq_20}\")\n",
    "print(f\"W <= 30 : {prob_w_leq_30}\")\n",
    "print(f\"W > 40 : {prob_w_g_40}\")\n",
    "print(f\"W > 60 : {prob_w_g_60}\")\n",
    "print(f\"W > 80 : {prob_w_g_80}\")\n",
    "print(f\"W > 100 : {prob_w_g_100}\")\n",
    "print(f\"Max time: {max(total_time_w)}\")\n",
    "print(f\"Min time: {min(total_time_w)}\")"
   ]
  },
  {
   "cell_type": "code",
   "execution_count": null,
   "metadata": {},
   "outputs": [],
   "source": [
    "import matplotlib.pyplot as plt\n",
    "\n",
    "\n",
    "# Sample space\n",
    "sample_space = [0, 15, 20, 30, 40, 60, 80, 100]\n",
    "\n",
    "# Cumulative probabilities\n",
    "cumulative_probs = [\n",
    "    0,\n",
    "    prob_w_leq_15,\n",
    "    prob_w_leq_20,\n",
    "    prob_w_leq_30,\n",
    "    1 - prob_w_g_40,\n",
    "    1 - prob_w_g_60,\n",
    "    1 - prob_w_g_80,\n",
    "    1 - prob_w_g_100\n",
    "]\n",
    "\n",
    "# Plot CDF\n",
    "plt.step(sample_space, cumulative_probs, where='post')\n",
    "plt.xlabel('W (seconds)')\n",
    "plt.ylabel('Cumulative Probability')\n",
    "plt.title('Cumulative Distribution Function (CDF) of W')\n",
    "plt.grid(True)\n",
    "plt.show()\n"
   ]
  },
  {
   "cell_type": "code",
   "execution_count": 40,
   "metadata": {},
   "outputs": [
    {
     "data": {
      "image/png": "[encoded data removed]",
      "text/plain": [
       "<Figure size 640x480 with 1 Axes>"
      ]
     },
     "metadata": {},
     "output_type": "display_data"
    }
   ],
   "source": [
    "import numpy as np\n",
    "import matplotlib.pyplot as plt\n",
    "\n",
    "# Array of outcomes\n",
    "outcomes = np.array(total_time_w)\n",
    "\n",
    "# Sort the outcomes\n",
    "sorted_outcomes = np.sort(outcomes)\n",
    "\n",
    "# Calculate the cumulative probabilities\n",
    "cumulative_probs = np.arange(1, len(sorted_outcomes) + 1) / len(sorted_outcomes)\n",
    "\n",
    "# Plot CDF\n",
    "plt.step(sorted_outcomes, cumulative_probs, where='post')\n",
    "plt.xlabel('Outcome')\n",
    "plt.ylabel('Cumulative Probability')\n",
    "plt.title('Cumulative Distribution Function (CDF)')\n",
    "plt.grid(True)\n",
    "plt.show()"
   ]
  }
 ],
 "metadata": {
  "kernelspec": {
   "display_name": "Python 3",
   "language": "python",
   "name": "python3"
  },
  "language_info": {
   "codemirror_mode": {
    "name": "ipython",
    "version": 3
   },
   "file_extension": ".py",
   "mimetype": "text/x-python",
   "name": "python",
   "nbconvert_exporter": "python",
   "pygments_lexer": "ipython3",
   "version": "3.12.1"
  }
 },
 "nbformat": 4,
 "nbformat_minor": 2
}
