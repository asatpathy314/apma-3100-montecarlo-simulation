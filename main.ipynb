{
 "cells": [
  {
   "cell_type": "markdown",
   "metadata": {},
   "source": [
    "Define variables and import required function."
   ]
  },
  {
   "cell_type": "code",
   "execution_count": 29,
   "metadata": {},
   "outputs": [],
   "source": [
    "from math import log\n",
    "#Define the call outcomes for t<25 and t>25\n",
    "CALL_OUTCOMES = {(\"LINE BUSY\", 0.2, 0.2, 6+3+1), (\"UNAVAILABLE\", 0.3, 0.5, 6+25+1), (\"AVAILABLE\", 0.5, 1.0, 6+1)}\n",
    "PRECISION = 4"
   ]
  },
  {
   "cell_type": "markdown",
   "metadata": {},
   "source": [
    "Create a random number generator using linear congruential random number algorithm."
   ]
  },
  {
   "cell_type": "code",
   "execution_count": 30,
   "metadata": {},
   "outputs": [],
   "source": [
    "def random_number_gen(x0=1000, a=24693, c=3517, k=(2**17)):\n",
    "    while True:\n",
    "        x_i = (a * x0 + c) % k\n",
    "        yield (x_i/k)\n",
    "        x0 = x_i"
   ]
  },
  {
   "cell_type": "markdown",
   "metadata": {},
   "source": [
    "Create random variable generators for both the call outcome $C$ and total call time $X$ to simulate call."
   ]
  },
  {
   "cell_type": "code",
   "execution_count": 31,
   "metadata": {},
   "outputs": [],
   "source": [
    "def determine_call_time(random_num): #previous cont_rand_var_gen\n",
    "    return -12*log(1-random_num)\n",
    "\n",
    "def simulate_call(random_num): #previously discrete_rand_var_gen(random_num)\n",
    "    #determine call outcome by iterating through all outcomes and finding first match to CDF\n",
    "    for outcome in CALL_OUTCOMES:\n",
    "        if outcome[2] >= random_num:\n",
    "            call_outcome = outcome\n",
    "            #if customer is available calculate availability time\n",
    "            if outcome[0] == \"AVAILABLE\":\n",
    "                time_waited = determine_call_time((random_num-0.5)/0.5)\n",
    "                if time_waited <= 25:\n",
    "                    call_outcome = (\"AVAILABLE\", 0.5, 1.0, round(6+time_waited+1, PRECISION))\n",
    "                else: \n",
    "                    call_outcome = (\"UNAVAILABLE (X>25)\", 0.5, 1.0, 32)\n",
    "            return call_outcome"
   ]
  },
  {
   "cell_type": "markdown",
   "metadata": {},
   "source": [
    "Run the simulation."
   ]
  },
  {
   "cell_type": "code",
   "execution_count": 32,
   "metadata": {},
   "outputs": [
    {
     "name": "stdout",
     "output_type": "stream",
     "text": [
      "U_51 = 0.5157089233398438\n",
      "U_52 = 0.427276611328125\n",
      "U_53 = 0.7681961059570312\n",
      "(None, 1.0, None)\n",
      "('AVAILABLE', 0.5, 1.0, 13.1299)\n"
     ]
    }
   ],
   "source": [
    "total_customers_called = 0\n",
    "total_time_spent = 0\n",
    "call_time_t = []\n",
    "total_time_w = []\n",
    "generator = random_number_gen()\n",
    "\n",
    "for call_index in range (1000):\n",
    "    rand_num = next(generator)\n",
    "    "
   ]
  }
 ],
 "metadata": {
  "kernelspec": {
   "display_name": "Python 3",
   "language": "python",
   "name": "python3"
  },
  "language_info": {
   "codemirror_mode": {
    "name": "ipython",
    "version": 3
   },
   "file_extension": ".py",
   "mimetype": "text/x-python",
   "name": "python",
   "nbconvert_exporter": "python",
   "pygments_lexer": "ipython3",
   "version": "3.12.1"
  }
 },
 "nbformat": 4,
 "nbformat_minor": 2
}
